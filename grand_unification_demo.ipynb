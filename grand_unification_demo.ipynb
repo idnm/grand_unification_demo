{
 "cells": [
  {
   "cell_type": "markdown",
   "metadata": {
    "tags": []
   },
   "source": [
    "# Grand unification of quantum algorithms\n",
    "> Or quantum singular value transformation, if you do not feel grandiose"
   ]
  },
  {
   "cell_type": "code",
   "execution_count": 2,
   "metadata": {},
   "outputs": [],
   "source": [
    "try:\n",
    "    import qiskit\n",
    "except ImportError:\n",
    "    !pip install qiskit\n",
    "try:\n",
    "    import pylatexenc\n",
    "except ImportError:\n",
    "    !pip install pylatexenc\n",
    "try:\n",
    "    import pyqsp\n",
    "except ImportError:\n",
    "    !pip install pyqsp\n",
    "\n",
    "from functools import reduce    \n",
    "    \n",
    "from qiskit import transpile, QuantumCircuit, QuantumRegister\n",
    "from qiskit.circuit.library import *\n",
    "from qiskit.quantum_info import OneQubitEulerDecomposer, random_clifford, Operator, Statevector\n",
    "from qiskit.extensions import UnitaryGate\n",
    "from qiskit.circuit import Instruction\n",
    "from typing import Union\n",
    "import numpy as np\n",
    "import matplotlib.pyplot as plt\n",
    "from scipy.stats import unitary_group\n",
    "\n",
    "import pyqsp\n",
    "import pyqsp.angle_sequence\n",
    "import pyqsp.response\n",
    "\n",
    "from tqdm.auto import tqdm"
   ]
  },
  {
   "cell_type": "markdown",
   "metadata": {},
   "source": [
    "# What is this all about?"
   ]
  },
  {
   "cell_type": "markdown",
   "metadata": {},
   "source": [
    "Quantum singular value transformation (QSVT) is a modern framework that can express in a unified way many of the prominent quantum algorithms. The basic idea is that given a linear map $H$ it is often possible to prepare a quantum circuit that performs a polynomial transformation on the singular values of $H$. For instance, Hamiltonian simulation, i.e. construction of the evolution operator $e^{-iHt}$, is equivalent to transforming the eigenvalues $\\lambda_i$ of $H$ to $\\lambda_i\\to e^{-i\\lambda_i t}$. Solving a linear system with matrix $H$ is equivalent to inverting its singular values $\\lambda_i\\to \\lambda^{-1}_i$. Performing Grover's search is equivalent to amplifying a single matrix element (the overlap between the initial and the target state), i.e. the singular value of a $1\\times1$ matrix, and also falls within this framework. \n",
    "\n",
    "There are several essential ingredients necessary to implement this program.\n",
    "- Quantum signal processing (QSP), which can be thought of as the special case for $1\\times1$ operators $H$ embedded in a two-dimensional space, the state space of a single qubit.\n",
    "- Qubitization, which is a way of applying single-qubit QSP to multi-dimensional problems.\n",
    "- $\\dots$\n",
    "\n",
    "Loose ends\n",
    "- How to perform polynomial approximation\n",
    "- How to do block encoding\n",
    "- How to turn matrix operations into quantum circuits"
   ]
  },
  {
   "cell_type": "markdown",
   "metadata": {},
   "source": [
    "# Quantum signal processing: basic example"
   ]
  },
  {
   "cell_type": "markdown",
   "metadata": {},
   "source": [
    "I don't really know what the quantum signal processing (QSP) is about, and there are probably many ways to introduce it. Here we will take a simple-minded approach that aligns well with what will follow after QSP. Suppose you have a qubit and can apply to it a $Z$ rotation $Z(\\phi):=e^{i\\phi Z}$. If you started in the computational basis state, $Z(\\phi)$ won't do anything. Now suppose you also can perform some fixed unitary operator $W$. The precise definition of $W$ probably does not matter much, but it is common to assume that $W$ is an $X$-rotation at some fixed angle $\\theta$\n",
    "$$\n",
    "W=X(\\theta):=e^{i\\theta X}=\\begin{pmatrix}a& i\\sqrt{1-a^2}\\\\ i\\sqrt{1-a^2} & a\\end{pmatrix}\n",
    "$$\n",
    "here $a=\\cos\\theta$. In QSP, $W$ is called the signal operator and $Z(\\phi)$ is called the signal-processing operator. Using both, we can construct quite general single-qubit operations (probably universal?).\n",
    "\n",
    "Here is a standard illustration. The probability of of the qubit to remain in state $|0\\rangle$ after applying $W$ is\n",
    "$$\n",
    "|\\langle0|W_x(\\theta)|0\\rangle|^2=\\cos^2 \\theta\n",
    "$$\n",
    "Using the signal processing, we can tweak this transition probability. The processed signal is defined by\n",
    "$$\n",
    "U_{\\pmb\\phi}=Z(\\phi_0)\\prod_k W Z(\\phi_k)\n",
    "$$\n",
    "and specified by giving $k+1$ angles $\\pmb\\phi=(\\phi_0,\\dots,\\phi_k)$. For instance, setting $\\pmb\\phi=(\\pi/2, -\\eta, 2\\eta, 0, -2\\eta,\\eta)$ with $\\eta=\\frac12 \\arccos(-\\frac14)$ suppressed transitions in a wider range around $\\theta=0$(the first and the last angles do not matter?). Here is an implementation."
   ]
  },
  {
   "cell_type": "code",
   "execution_count": 3,
   "metadata": {
    "scrolled": true
   },
   "outputs": [
    {
     "data": {
      "image/png": "[encoded data removed]",
      "text/plain": [
       "<Figure size 432x288 with 1 Axes>"
      ]
     },
     "metadata": {
      "needs_background": "light"
     },
     "output_type": "display_data"
    }
   ],
   "source": [
    "def X(theta):\n",
    "    return np.array([\n",
    "        [np.cos(theta), 1j*np.sin(theta)], \n",
    "        [1j*np.sin(theta), np.cos(theta)]\n",
    "    ])\n",
    "\n",
    "def Z(phi):\n",
    "    return np.array([\n",
    "        [np.exp(1j*phi), 0], \n",
    "        [0, np.exp(-1j*phi)]\n",
    "    ])\n",
    "\n",
    "def U_QSP(W, phi):\n",
    "    operators = [Z(phi[0])]\n",
    "    for p in phi[1:]:\n",
    "        operators.append(W)\n",
    "        operators.append(Z(p))\n",
    "    return reduce(np.matmul, operators)\n",
    "\n",
    "theta = np.linspace(-np.pi, np.pi, 100)\n",
    "eta = np.arccos(-1/4)/2\n",
    "# phi = np.array([np.pi/2,-eta,2*eta, 0, -2*eta, eta])\n",
    "phi = np.array([0, -eta, 2*eta, 0, -2*eta, 0])\n",
    "\n",
    "plt.plot(theta, [np.abs(X(t/2)[0, 0])**2 for t in theta], label='Signal');\n",
    "plt.plot(theta, [np.abs(U_QSP(X(t/2), phi)[0, 0])**2 for t in theta], label='Processed signal');\n",
    "plt.title(r'Transition probability $|\\langle 0|U_{\\phi}|0\\rangle|^2$ ')\n",
    "plt.legend();"
   ]
  },
  {
   "cell_type": "markdown",
   "metadata": {},
   "source": [
    "More generally, QSP allows to perform a polynomial tranformation on matrix elements of $W$, explicitly\n",
    "$$\n",
    "U_{\\pmb\\phi}=\\begin{pmatrix}P(a)&iQ(a)\\sqrt{1-a^2}\\\\iQ^*(a)\\sqrt{1-a^2}&P^*(a)\\end{pmatrix}\n",
    "$$\n",
    "In fact, any degree $d$ polynomial $P(a)$ can be obtained in this way subject to the constraints\n",
    "- constraints on $P$ and $Q$\n",
    "- $\\dots$\n",
    "\n",
    "This reduces the task of signal processing to constructing a polynomial with the desired properties in the relevant parameter range."
   ]
  },
  {
   "cell_type": "markdown",
   "metadata": {},
   "source": [
    "# Amplitude amplification"
   ]
  },
  {
   "cell_type": "markdown",
   "metadata": {
    "hideCode": true,
    "hidePrompt": true
   },
   "source": [
    "Now let's extend QSP beyond the single-qubit problems. The simplest example of this kind is the task of the amplitude amplification. Here is the deal. Suppose we have an initial state $|B_0\\rangle$ and want to map it to some target state $|A_0\\rangle$. However, we can only perform some \"signal\" unitary operator $W$, which has small but non-zero transition amplitude $\\langle A_0|W|B_0\\rangle$. Obviously, just using $W$ can not be sufficient in general. Assume also that we can implement $A_\\phi=e^{i\\phi |A_0\\rangle\\langle A_0|}$ and $B_\\phi=e^{i\\phi |B_0\\rangle\\langle B_0|}$ as well. These operators are analogs of the $Z$-rotation \"signal processing\" operator. It turns out to be possible to build a circuit $U$ out of $W, W^\\dagger, A_\\phi, B_\\phi$ that will feature a large transition amplitude $\\langle A_0|U|B_0\\rangle$. Interestingly, no specific knowledge of $U$ is assumed, even the amplitude $\\langle A_0|W|B_0\\rangle$ needs not be known. For this reason this is called an oblivious amplitude amplification. If you think that the problem is artificial please bear with us until we relate it, without much changes, to Grover's search. \n",
    "\n",
    "The task looks similar to what can be solved with a QSP, but here our states and operators can belong to a high-dimensional space. To apply QSP we first need to reduce the problem to a two-dimensional one, or to \"qubitize\" it. \n",
    "To this end, denote by $\\mathcal{H}_A$ the 2d vector space spanned by $|A_0\\rangle$ and $W|B_0\\rangle$. These vectors are not orthogonal by assumption, and it will be convenient to introduce $|A_1\\rangle$ that also lives in $\\mathcal{H}_A$ and *is* orthogonal to $|A_0\\rangle$. We can define $|A_1\\rangle$ by\n",
    "$$\n",
    "W|B_0\\rangle=a|A_0\\rangle+i\\sqrt{1-a^2}|A_1\\rangle\n",
    "$$\n",
    "i.e. we split the image of $|B_0\\rangle$ into a component along $|A_0\\rangle$ and an orthogonal one, which we call $|A_1\\rangle$. We assume that parameter $a$ is real, a possible phase can be absorbed into $|A_1\\rangle$. The operator $W^\\dagger$ maps $\\mathcal{H}_A$ to another 2d subspace which we call $\\mathcal{H}_B$. It is spanned by $|B_0\\rangle$ and another vector $|B_1\\rangle$, which can be defined to satisfy\n",
    "$$\n",
    "W|B_1\\rangle=i\\sqrt{1-a^2}|A_0\\rangle+a|A_1\\rangle\n",
    "$$\n",
    "In the bases chosen, restriction of $W$ mapping $\\mathcal{H}_B\\to \\mathcal{H}_A$ has the following matrix form\n",
    "$$\n",
    "W|_{BA}=\\begin{pmatrix}a&i\\sqrt{1-a^2}\\\\i\\sqrt{1-a^2}&a\\end{pmatrix}=X(\\theta)\n",
    "$$\n",
    "where $a=\\cos\\theta$. Similarly, one shows that\n",
    "$$\n",
    "W^\\dagger|_{AB}=X(-\\theta)=Z X(\\theta) Z,\\qquad A_\\phi|_{AA}=B_\\phi|_{BB}\\simeq Z(\\phi/2)\n",
    "$$\n",
    "Here and in the following $\\simeq$ means equality up to a global phase, which often can be ignored.\n",
    "OK, so recall we have our amplitude $\\langle A_0|W|B_0\\rangle$, how to amplify it? We will apply QSP in the space $\\mathcal{H}_A$. For that, we will need an operator mapping $\\mathcal{H}_A$ to itself. Here is how such an operator can be constructed\n",
    "$$\n",
    "U(\\phi_1,\\phi_2) = W B_{\\phi_1} W^\\dagger A_{\\phi_2}\n",
    "$$\n",
    "Its non-trivial matrix elements can be computed as\n",
    "$$\n",
    "U(\\phi_1,\\phi_2)|_{AA}= W|_{AB} B_{\\phi_1}|_{BB} W^\\dagger|_{BA} A_{\\phi_2}|_{AA}\\simeq X(\\theta) Z(\\frac{\\phi_1+\\pi}{2}) X(\\theta) Z(\\frac{\\phi_2+\\pi}2)\n",
    "$$\n",
    "Applying $U(\\phi_1,\\phi_2)$ multiple times generates exactly the signal processing transformation we saw before. Note that the angles $\\phi$ must be adjusted to comply with the QSP notation, $\\phi\\to 2\\phi-\\pi$.\n",
    "\n",
    "Now that we can perform polynomial transformations on the original amplitude, how exactly do we amplify it, what kind of polynomial does that? Turns out, we one can cook a decent polynomial approximation to $sign$ function. Here is how it looks."
   ]
  },
  {
   "cell_type": "code",
   "execution_count": 4,
   "metadata": {},
   "outputs": [
    {
     "name": "stdout",
     "output_type": "stream",
     "text": [
      "[pyqsp.poly.PolySign] degree=15, delta=10\n",
      "[PolyTaylorSeries] max [0.89938904] is at [0.99190301]: normalizing\n",
      "[PolyTaylorSeries] average error = 0.11235939233759482 in the domain [-1, 1] using degree 15\n"
     ]
    },
    {
     "data": {
      "image/png": "[encoded data removed]",
      "text/plain": [
       "<Figure size 576x360 with 1 Axes>"
      ]
     },
     "metadata": {
      "needs_background": "light"
     },
     "output_type": "display_data"
    }
   ],
   "source": [
    "def get_amplitude_amplification_angles(degree):\n",
    "    pg = pyqsp.poly.PolySign()\n",
    "    pcoefs, scale = pg.generate(degree, delta=10, ensure_bounded=True, return_scale=True)\n",
    "    phis = pyqsp.angle_sequence.QuantumSignalProcessingPhases(pcoefs, signal_operator='Wx')\n",
    "    return np.array(phis)\n",
    "\n",
    "degree = 15\n",
    "pyqsp.response.PlotQSPResponse(\n",
    "    get_amplitude_amplification_angles(degree),\n",
    "    target=lambda x: np.sign(x),\n",
    "    signal_operator='Wx',\n",
    "    title=\"Sign Function\")"
   ]
  },
  {
   "cell_type": "markdown",
   "metadata": {},
   "source": [
    "OK, with all the ingredients in place we can now code our basic implementation of the amplitude amplification."
   ]
  },
  {
   "cell_type": "code",
   "execution_count": 5,
   "metadata": {},
   "outputs": [],
   "source": [
    "# Define rotation unitaries and the amplitude amplification circuit.\n",
    "\n",
    "def rotation(A, phi):\n",
    "    # Implements e^{i phi |A><A|}\n",
    "    n = len(A)\n",
    "    return np.identity(n)+(np.exp(1j * phi)-1)*np.outer(A, A.conj())\n",
    "\n",
    "def U_amplitude_amplification(A, B, W, phi):\n",
    "    assert len(phi) % 2 == 0, 'Amplitude amplification requires an odd number of angles'\n",
    "    \n",
    "    operators = [rotation(A, phi[0])]\n",
    "    \n",
    "    for phi_B, phi_A in phi[1:-1].reshape(-1, 2):\n",
    "        operators.append(W)\n",
    "        operators.append(rotation(B, phi_B))\n",
    "        operators.append(W.conj().T)\n",
    "        operators.append(rotation(A, phi_A))\n",
    "    \n",
    "    operators.append(W)\n",
    "    operators.append(rotation(B, phi[-1]))\n",
    "\n",
    "    return reduce(np.matmul, operators)"
   ]
  },
  {
   "cell_type": "markdown",
   "metadata": {},
   "source": [
    "Now we define a bunch of random vectors $|A\\rangle, |B\\rangle$, random signals $W$ and apply test amplitude amplification algorithm for several different approximation polynomials."
   ]
  },
  {
   "cell_type": "code",
   "execution_count": 6,
   "metadata": {},
   "outputs": [
    {
     "name": "stdout",
     "output_type": "stream",
     "text": [
      "[pyqsp.poly.PolySign] degree=5, delta=10\n",
      "[PolyTaylorSeries] max [0.9] is at [1.]: normalizing\n",
      "[PolyTaylorSeries] average error = 0.21930741075851684 in the domain [-1, 1] using degree 5\n",
      "[pyqsp.poly.PolySign] degree=9, delta=10\n",
      "[PolyTaylorSeries] max [0.9] is at [1.]: normalizing\n",
      "[PolyTaylorSeries] average error = 0.15018408679233242 in the domain [-1, 1] using degree 9\n",
      "[pyqsp.poly.PolySign] degree=15, delta=10\n",
      "[PolyTaylorSeries] max [0.89938904] is at [0.99190301]: normalizing\n",
      "[PolyTaylorSeries] average error = 0.11235939233759482 in the domain [-1, 1] using degree 15\n"
     ]
    },
    {
     "data": {
      "application/vnd.jupyter.widget-view+json": {
       "model_id": "0215127dd0324ebfaca2671751437dc5",
       "version_major": 2,
       "version_minor": 0
      },
      "text/plain": [
       "  0%|          | 0/100 [00:00<?, ?it/s]"
      ]
     },
     "metadata": {},
     "output_type": "display_data"
    }
   ],
   "source": [
    "np.random.seed(0)\n",
    "\n",
    "# The full Hilbert space is not 2d!\n",
    "num_qubits = 4\n",
    "num_samples = 100\n",
    "degrees = (5, 9, 15)\n",
    "\n",
    "phis = [get_amplitude_amplification_angles(d) for d in degrees]\n",
    "\n",
    "original_amplitudes = np.zeros(num_samples)\n",
    "amplified_amplitudes = np.zeros((len(degrees), num_samples))\n",
    "\n",
    "\n",
    "for i in tqdm(range(num_samples)):\n",
    "    \n",
    "    # Random signal operator\n",
    "    W = unitary_group.rvs(2**num_qubits, random_state=i)\n",
    "    \n",
    "    # A random state can be defined as a row of a random unitary\n",
    "    A = unitary_group.rvs(2**num_qubits, random_state=i+num_samples)[0]\n",
    "    B = unitary_group.rvs(2**num_qubits, random_state=i+2*num_samples)[0]\n",
    "    \n",
    "    original_amplitude = np.abs(A.conj()@W@B)\n",
    "    amplified_amplitudes_slice = []\n",
    "    for phi in phis:\n",
    "        phi = 2*phi-np.pi # Remember to adjust the angles!\n",
    "        U = U_amplitude_amplification(A, B, W, phi)\n",
    "        amplified_amplitude = np.abs(A.conj()@U@B)\n",
    "        amplified_amplitudes_slice.append(amplified_amplitude)\n",
    "    \n",
    "    original_amplitudes[i] = original_amplitude\n",
    "    amplified_amplitudes[:, i] = np.array(amplified_amplitudes_slice)"
   ]
  },
  {
   "cell_type": "code",
   "execution_count": 7,
   "metadata": {},
   "outputs": [
    {
     "data": {
      "image/png": "[encoded data removed]",
      "text/plain": [
       "<Figure size 432x288 with 1 Axes>"
      ]
     },
     "metadata": {
      "needs_background": "light"
     },
     "output_type": "display_data"
    }
   ],
   "source": [
    "plt.plot(original_amplitudes, original_amplitudes, label='original amplitude')\n",
    "for d, amplitudes in zip(degrees, amplified_amplitudes):\n",
    "    plt.scatter(original_amplitudes, amplitudes, label=f'd={d}')\n",
    "plt.legend();"
   ]
  },
  {
   "cell_type": "markdown",
   "metadata": {},
   "source": [
    "OK, this looks reasonable!"
   ]
  },
  {
   "cell_type": "markdown",
   "metadata": {},
   "source": [
    "# Unstructured search"
   ]
  },
  {
   "cell_type": "markdown",
   "metadata": {},
   "source": [
    "The celebrated Grover's search solves the following problem. Provided access to operator $A_{\\pi}=1-2|A_0\\rangle\\langle A_0|$ find $|A_0\\rangle$, which is assumed to be a computational basis state. This is similar to the amplitude amplification. We can choose the signal operator as $W=H^n$, the Hadamard on all the qubits and $|B_0\\rangle=|0\\rangle^n$, the all zero state. There are two main differences with the oblivious amplitude amplification\n",
    "1. We can only use $A_\\pi$ and not arbitrary rotations $A_\\phi$.\n",
    "1. The initial amplitude $\\langle A_0|W|B_0\\rangle=\\frac{1}{\\sqrt{N}}$ is known.\n",
    "Using 1. and the fact that $A_\\pi|_{A}=\\simeq Z$ leads to\n",
    "$$\n",
    "U(\\phi)=W B_{\\phi} W^\\dagger A_{\\pi}\\simeq X(\\theta) Z(\\frac{\\phi+\\pi}{2}) X(\\theta)\n",
    "$$\n",
    "Therefore, the operator being processed is $X(2\\theta)$ rather than $X(\\theta)$. Indeed\n",
    "$$\n",
    "U_{\\pmb\\phi}|_{AB}= \\left(\\prod_k U(\\phi_k)\\right)|_{AA}W|_{AB}=X(\\theta) \\prod_k Z(\\frac{\\phi_k+\\pi}{2}) X(2\\theta)\n",
    "$$\n",
    "We can rewrite this as\n",
    "$$\n",
    "U_{\\pmb\\phi}|_{AB}=X(-\\theta)\\prod_{k>1} X(2\\theta) Z(\\frac{\\phi_k+\\pi}{2})\n",
    "$$\n",
    "So it seems that the goal is to choose the signal processing that will transform $X(2\\theta)\\to X(\\theta)$, so that $U_{\\pmb\\phi}\\to 1$. Since $\\cos2\\theta=2\\cos^2\\theta-1$ in terms of the polynomial transformation this means finding $P$ such that $P(2a^2-1)\\approx a$. Note that this only need to hold for $a=1/\\sqrt{N}$."
   ]
  },
  {
   "cell_type": "code",
   "execution_count": 188,
   "metadata": {},
   "outputs": [],
   "source": [
    "H = 1/np.sqrt(2)*np.array([\n",
    "    [1, 1],\n",
    "    [1, -1]\n",
    "])\n",
    "\n",
    "def hadamard(num_qubits):\n",
    "    return reduce(np.kron, [H]*num_qubits)\n",
    "\n",
    "def U_Grover(num_qubits, reps):\n",
    "    Hn = hadamard(num_qubits)\n",
    "    \n",
    "    operators = [H]\n",
    "    for r in range(reps):\n",
    "        operators()"
   ]
  },
  {
   "cell_type": "code",
   "execution_count": 192,
   "metadata": {},
   "outputs": [],
   "source": [
    "np.random.seed(42)\n",
    "\n",
    "num_qubits = 4\n",
    "\n",
    "# |B> = |0>\n",
    "B = np.zeros(2**num_qubits)\n",
    "B[0] = 1\n",
    "\n",
    "# |A> = |n> with random n\n",
    "A = np.zeros(2**num_qubits)\n",
    "A[np.random.randint(0, 2**num_qubits)] = 1"
   ]
  }
 ],
 "metadata": {
  "kernelspec": {
   "display_name": "pypi",
   "language": "python",
   "name": "pypi"
  },
  "language_info": {
   "codemirror_mode": {
    "name": "ipython",
    "version": 3
   },
   "file_extension": ".py",
   "mimetype": "text/x-python",
   "name": "python",
   "nbconvert_exporter": "python",
   "pygments_lexer": "ipython3",
   "version": "3.8.10"
  },
  "varInspector": {
   "cols": {
    "lenName": 16,
    "lenType": 16,
    "lenVar": 40
   },
   "kernels_config": {
    "python": {
     "delete_cmd_postfix": "",
     "delete_cmd_prefix": "del ",
     "library": "var_list.py",
     "varRefreshCmd": "print(var_dic_list())"
    },
    "r": {
     "delete_cmd_postfix": ") ",
     "delete_cmd_prefix": "rm(",
     "library": "var_list.r",
     "varRefreshCmd": "cat(var_dic_list()) "
    }
   },
   "types_to_exclude": [
    "module",
    "function",
    "builtin_function_or_method",
    "instance",
    "_Feature"
   ],
   "window_display": false
  },
  "widgets": {
   "application/vnd.jupyter.widget-state+json": {
    "state": {},
    "version_major": 2,
    "version_minor": 0
   }
  }
 },
 "nbformat": 4,
 "nbformat_minor": 4
}
